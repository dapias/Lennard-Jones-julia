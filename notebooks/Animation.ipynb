{
 "cells": [
  {
   "cell_type": "code",
   "execution_count": 1,
   "metadata": {
    "collapsed": true
   },
   "outputs": [],
   "source": [
    "using PyPlot\n",
    "using PyCall\n",
    "\n",
    "pygui(true)\n",
    "@pyimport matplotlib.animation as anim"
   ]
  },
  {
   "cell_type": "code",
   "execution_count": 2,
   "metadata": {
    "collapsed": false
   },
   "outputs": [
    {
     "data": {
      "text/plain": [
       "ljconfig (generic function with 2 methods)"
      ]
     },
     "execution_count": 2,
     "metadata": {},
     "output_type": "execute_result"
    }
   ],
   "source": [
    "function ljconfig(N, per=0.2)\n",
    "    # mesh-grid-like construction\n",
    "    X = (0:N) * ones(1,N+1)\n",
    "    Y = X'\n",
    "    # write all particles into a single array\n",
    "    x = [X[:]'; Y[:]']\n",
    "    x = x + per * rand(size(x))\n",
    "end"
   ]
  },
  {
   "cell_type": "code",
   "execution_count": 4,
   "metadata": {
    "collapsed": false
   },
   "outputs": [
    {
     "name": "stdout",
     "output_type": "stream",
     "text": [
      "  "
     ]
    },
    {
     "data": {
      "text/plain": [
       "PyObject <matplotlib.animation.FuncAnimation object at 0x7f7e4f4f5bd0>"
      ]
     },
     "execution_count": 4,
     "metadata": {},
     "output_type": "execute_result"
    },
    {
     "name": "stdout",
     "output_type": "stream",
     "text": [
      "0.002882 seconds (702 allocations: 32.208 KB)\n"
     ]
    }
   ],
   "source": [
    "fig = figure()\n",
    "ax = fig[:add_subplot](111)\n",
    "\n",
    "N = 20\n",
    "\n",
    "ax[:set_xlim](-2,N*2)\n",
    "ax[:set_ylim](-2,N*2)\n",
    "\n",
    "line = ax[:plot]([], [], \"b.\")[1]\n",
    "\n",
    "\n",
    "function init()\n",
    "    line[:set_data]([],[])\n",
    "    return (line, )\n",
    "end\n",
    "\n",
    "function animate(i)\n",
    "    x = ljconfig(N)\n",
    "    x += i*0.1   #i starts in 0 as in Python\n",
    "    line[:set_data](squeeze(x[1,:],1), squeeze(x[2,:],1))\n",
    "    return (line,)\n",
    "end\n",
    "\n",
    "@time anim.FuncAnimation(fig, animate, init_func=init, frames=1000, interval=20, blit=true)"
   ]
  },
  {
   "cell_type": "code",
   "execution_count": null,
   "metadata": {
    "collapsed": true
   },
   "outputs": [],
   "source": []
  }
 ],
 "metadata": {
  "kernelspec": {
   "display_name": "Julia 0.4.0",
   "language": "julia",
   "name": "julia-0.4"
  },
  "language_info": {
   "file_extension": ".jl",
   "mimetype": "application/julia",
   "name": "julia",
   "version": "0.4.2"
  }
 },
 "nbformat": 4,
 "nbformat_minor": 0
}
