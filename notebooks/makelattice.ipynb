{
 "cells": [
  {
   "cell_type": "code",
   "execution_count": 1,
   "metadata": {
    "collapsed": false
   },
   "outputs": [],
   "source": [
    "include(\"../LennardJones.jl\")\n",
    "import LennardJones"
   ]
  },
  {
   "cell_type": "code",
   "execution_count": 30,
   "metadata": {
    "collapsed": false
   },
   "outputs": [
    {
     "data": {
      "text/plain": [
       "8.819447349264113"
      ]
     },
     "execution_count": 30,
     "metadata": {},
     "output_type": "execute_result"
    }
   ],
   "source": [
    "N = 1372; rho = 2.0; dim =3; L = cbrt(N/rho)"
   ]
  },
  {
   "cell_type": "code",
   "execution_count": 31,
   "metadata": {
    "collapsed": false
   },
   "outputs": [
    {
     "name": "stdout",
     "output_type": "stream",
     "text": [
      "latticedistance = 0.7349539457720095\n"
     ]
    }
   ],
   "source": [
    "atoms = LennardJones.makelattice(N,L,rho);"
   ]
  },
  {
   "cell_type": "code",
   "execution_count": 32,
   "metadata": {
    "collapsed": false
   },
   "outputs": [],
   "source": [
    "using PyPlot\n",
    "pygui(true)\n",
    "x = zeros(N); y = zeros(N); z = zeros(N);\n",
    "for i in 1:N\n",
    "    x[i] = atoms[i].r[1]\n",
    "    y[i] = atoms[i].r[2]\n",
    "    z[i] = atoms[i].r[3]\n",
    "end"
   ]
  },
  {
   "cell_type": "code",
   "execution_count": 33,
   "metadata": {
    "collapsed": false
   },
   "outputs": [
    {
     "data": {
      "text/plain": [
       "(-4.4097236746320565,4.4097236746320565)"
      ]
     },
     "execution_count": 33,
     "metadata": {},
     "output_type": "execute_result"
    }
   ],
   "source": [
    "fig = plt[:figure]()\n",
    "ax = fig[:add_subplot](111, projection = \"3d\")\n",
    "ax[:scatter](x,y,z, c=\"purple\", marker=\"o\")\n",
    "\n",
    "\n",
    "ax[:set_xlim](-L/2,L/2)\n",
    "ax[:set_ylim](-L/2,L/2)\n",
    "ax[:set_zlim](-L/2,L/2)"
   ]
  },
  {
   "cell_type": "code",
   "execution_count": null,
   "metadata": {
    "collapsed": true
   },
   "outputs": [],
   "source": []
  },
  {
   "cell_type": "code",
   "execution_count": null,
   "metadata": {
    "collapsed": true
   },
   "outputs": [],
   "source": []
  }
 ],
 "metadata": {
  "kernelspec": {
   "display_name": "Julia 0.4.0",
   "language": "julia",
   "name": "julia-0.4"
  },
  "language_info": {
   "file_extension": ".jl",
   "mimetype": "application/julia",
   "name": "julia",
   "version": "0.4.2"
  }
 },
 "nbformat": 4,
 "nbformat_minor": 0
}
